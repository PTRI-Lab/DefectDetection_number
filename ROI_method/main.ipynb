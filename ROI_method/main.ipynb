{
 "cells": [
  {
   "cell_type": "code",
   "execution_count": null,
   "id": "fa2a6c18",
   "metadata": {},
   "outputs": [],
   "source": [
    "! python -m venv venv\n",
    "! .\\venv\\Scripts\\activate.bat\n",
    "! python.exe -m pip install --upgrade pip\n",
    "! pip install easyocr \n",
    "! pip install git+https://github.com/JaidedAI/EasyOCR.git"
   ]
  },
  {
   "cell_type": "code",
   "execution_count": 1,
   "id": "b582209c",
   "metadata": {},
   "outputs": [
    {
     "name": "stdout",
     "output_type": "stream",
     "text": [
      "✅ 有文字\n"
     ]
    }
   ],
   "source": [
    "import cv2\n",
    "\n",
    "def has_text_mser(image_path, min_area=100, max_area=8000):\n",
    "    image = cv2.imread(image_path)\n",
    "    gray = cv2.cvtColor(image, cv2.COLOR_BGR2GRAY)\n",
    "\n",
    "    mser = cv2.MSER_create()\n",
    "    regions, _ = mser.detectRegions(gray)\n",
    "\n",
    "    for p in regions:\n",
    "        x, y, w, h = cv2.boundingRect(p.reshape(-1, 1, 2))\n",
    "        area = w * h\n",
    "        if min_area < area < max_area:  # 過濾太小或太大的區域\n",
    "            return True  # 檢測到疑似文字\n",
    "    return False\n",
    "\n",
    "# 測試\n",
    "if has_text_mser(\"../static/fixedpoint.PNG\"):\n",
    "    print(\"✅ 有文字\")\n",
    "else:\n",
    "    print(\"❌ 沒有文字\")\n"
   ]
  },
  {
   "cell_type": "code",
   "execution_count": 2,
   "id": "dc3a1519",
   "metadata": {},
   "outputs": [
    {
     "name": "stderr",
     "output_type": "stream",
     "text": [
      "c:\\Users\\ptril\\AppData\\Local\\Programs\\Python\\Python310\\lib\\site-packages\\tqdm\\auto.py:21: TqdmWarning: IProgress not found. Please update jupyter and ipywidgets. See https://ipywidgets.readthedocs.io/en/stable/user_install.html\n",
      "  from .autonotebook import tqdm as notebook_tqdm\n",
      "C:\\Users\\ptril\\AppData\\Local\\Temp\\ipykernel_9464\\661941181.py:4: DeprecationWarning: The parameter `use_angle_cls` has been deprecated and will be removed in the future. Please use `use_textline_orientation` instead.\n",
      "  ocr = PaddleOCR(use_angle_cls=True, lang='en')  # 旋轉文字檢測\n",
      "c:\\Users\\ptril\\AppData\\Local\\Programs\\Python\\Python310\\lib\\site-packages\\paddle\\utils\\cpp_extension\\extension_utils.py:717: UserWarning: No ccache found. Please be aware that recompiling all source files may be required. You can download and install ccache from: https://github.com/ccache/ccache/blob/master/doc/INSTALL.md\n",
      "  warnings.warn(warning_message)\n",
      "\u001b[32mCreating model: ('PP-LCNet_x1_0_doc_ori', None)\u001b[0m\n",
      "\u001b[32mModel files already exist. Using cached files. To redownload, please delete the directory manually: `C:\\Users\\ptril\\.paddlex\\official_models\\PP-LCNet_x1_0_doc_ori`.\u001b[0m\n",
      "\u001b[32mCreating model: ('UVDoc', None)\u001b[0m\n",
      "\u001b[32mModel files already exist. Using cached files. To redownload, please delete the directory manually: `C:\\Users\\ptril\\.paddlex\\official_models\\UVDoc`.\u001b[0m\n",
      "\u001b[32mCreating model: ('PP-LCNet_x1_0_textline_ori', None)\u001b[0m\n",
      "\u001b[32mModel files already exist. Using cached files. To redownload, please delete the directory manually: `C:\\Users\\ptril\\.paddlex\\official_models\\PP-LCNet_x1_0_textline_ori`.\u001b[0m\n",
      "\u001b[32mCreating model: ('PP-OCRv5_server_det', None)\u001b[0m\n",
      "\u001b[32mModel files already exist. Using cached files. To redownload, please delete the directory manually: `C:\\Users\\ptril\\.paddlex\\official_models\\PP-OCRv5_server_det`.\u001b[0m\n",
      "\u001b[32mCreating model: ('en_PP-OCRv5_mobile_rec', None)\u001b[0m\n",
      "\u001b[32mModel files already exist. Using cached files. To redownload, please delete the directory manually: `C:\\Users\\ptril\\.paddlex\\official_models\\en_PP-OCRv5_mobile_rec`.\u001b[0m\n"
     ]
    },
    {
     "name": "stdout",
     "output_type": "stream",
     "text": [
      "KL330705MN\n",
      "✅ 圖片有英文或數字\n"
     ]
    }
   ],
   "source": [
    "from paddleocr import PaddleOCR\n",
    "import re\n",
    "\n",
    "ocr = PaddleOCR(use_angle_cls=True, lang='en')  # 旋轉文字檢測\n",
    "\n",
    "def has_english_or_number(image_path, conf_threshold=0.5):\n",
    "    results = ocr.predict(image_path)\n",
    "    \n",
    "    pattern = re.compile(r'[A-Za-z0-9]+')\n",
    "\n",
    "    for page in results:\n",
    "        rec_texts = page.get('rec_texts', [])\n",
    "        rec_scores = page.get('rec_scores', [])\n",
    "        for text, score in zip(rec_texts, rec_scores):\n",
    "            if score >= conf_threshold and pattern.search(text):\n",
    "                print(text)\n",
    "                return True\n",
    "    return False\n",
    "\n",
    "# 測試\n",
    "image_path = \"../static/fixedpoint.PNG\"\n",
    "if has_english_or_number(image_path):\n",
    "    print(\"✅ 圖片有英文或數字\")\n",
    "else:\n",
    "    print(\"❌ 圖片沒有英文或數字\")\n"
   ]
  },
  {
   "cell_type": "code",
   "execution_count": null,
   "id": "982a255e",
   "metadata": {},
   "outputs": [],
   "source": [
    "import cv2\n",
    "\n",
    "def has_text_mser(frame, min_area=50, max_area=5000):\n",
    "    gray = cv2.cvtColor(frame, cv2.COLOR_BGR2GRAY)\n",
    "    mser = cv2.MSER_create()\n",
    "    regions, _ = mser.detectRegions(gray)\n",
    "    for p in regions:\n",
    "        x, y, w, h = cv2.boundingRect(p.reshape(-1, 1, 2))\n",
    "        area = w * h\n",
    "        if min_area < area < max_area:\n",
    "            return True\n",
    "    return False\n",
    "\n",
    "# 讀取影片\n",
    "cap = cv2.VideoCapture(r\".\\static\\wrong.mp4\")\n",
    "frame_idx = 0\n",
    "has_text = False\n",
    "\n",
    "while True:\n",
    "    ret, frame = cap.read()\n",
    "    if not ret:\n",
    "        break\n",
    "\n",
    "    # 每 3 幀檢測一次\n",
    "    if frame_idx % 3 == 0:\n",
    "        has_text = has_text_mser(frame)\n",
    "\n",
    "    # 左上角提示\n",
    "    if has_text:\n",
    "        color = (0, 255, 0)  # 綠色\n",
    "        message = \"Text Detected\"\n",
    "    else:\n",
    "        color = (0, 0, 255)  # 紅色\n",
    "        message = \"No Text\"\n",
    "\n",
    "    cv2.putText(frame, message, (10, 30), cv2.FONT_HERSHEY_SIMPLEX,\n",
    "                1, color, 2, cv2.LINE_AA)\n",
    "\n",
    "    cv2.imshow(\"Text Detection\", frame)\n",
    "    frame_idx += 1\n",
    "\n",
    "    if cv2.waitKey(1) & 0xFF == ord('q'):\n",
    "        break\n",
    "\n",
    "cap.release()\n",
    "cv2.destroyAllWindows()\n"
   ]
  },
  {
   "cell_type": "code",
   "execution_count": 1,
   "id": "192107a6",
   "metadata": {},
   "outputs": [
    {
     "name": "stderr",
     "output_type": "stream",
     "text": [
      "c:\\Users\\ptril\\AppData\\Local\\Programs\\Python\\Python310\\lib\\site-packages\\paddle\\utils\\cpp_extension\\extension_utils.py:717: UserWarning: No ccache found. Please be aware that recompiling all source files may be required. You can download and install ccache from: https://github.com/ccache/ccache/blob/master/doc/INSTALL.md\n",
      "  warnings.warn(warning_message)\n"
     ]
    },
    {
     "name": "stdout",
     "output_type": "stream",
     "text": [
      "GPU available: False\n"
     ]
    }
   ],
   "source": [
    "import paddle\n",
    "gpu_available  = paddle.device.is_compiled_with_cuda()\n",
    "print(\"GPU available:\", gpu_available)"
   ]
  }
 ],
 "metadata": {
  "kernelspec": {
   "display_name": "Python 3",
   "language": "python",
   "name": "python3"
  },
  "language_info": {
   "codemirror_mode": {
    "name": "ipython",
    "version": 3
   },
   "file_extension": ".py",
   "mimetype": "text/x-python",
   "name": "python",
   "nbconvert_exporter": "python",
   "pygments_lexer": "ipython3",
   "version": "3.10.11"
  }
 },
 "nbformat": 4,
 "nbformat_minor": 5
}
