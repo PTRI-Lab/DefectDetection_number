{
 "cells": [
  {
   "cell_type": "code",
   "execution_count": null,
   "id": "fa2a6c18",
   "metadata": {},
   "outputs": [],
   "source": [
    "! python -m venv venv\n",
    "! .\\venv\\Scripts\\activate.bat\n",
    "! python.exe -m pip install --upgrade pip\n",
    "! pip install easyocr \n",
    "! pip install git+https://github.com/JaidedAI/EasyOCR.git"
   ]
  },
  {
   "cell_type": "code",
   "execution_count": 4,
   "id": "fc7d9739",
   "metadata": {},
   "outputs": [
    {
     "name": "stderr",
     "output_type": "stream",
     "text": [
      "Neither CUDA nor MPS are available - defaulting to CPU. Note: This module is much faster with a GPU.\n"
     ]
    },
    {
     "name": "stdout",
     "output_type": "stream",
     "text": [
      "辨識結果 1：XY330702WV\n"
     ]
    },
    {
     "name": "stderr",
     "output_type": "stream",
     "text": [
      "c:\\Users\\ptril\\AppData\\Local\\Programs\\Python\\Python310\\lib\\site-packages\\torch\\utils\\data\\dataloader.py:665: UserWarning: 'pin_memory' argument is set as true but no accelerator is found, then device pinned memory won't be used.\n",
      "  warnings.warn(warn_msg)\n"
     ]
    }
   ],
   "source": [
    "import easyocr\n",
    "\n",
    "# 初始化 OCR 引擎（使用英文與數字）\n",
    "reader = easyocr.Reader(['en'])\n",
    "\n",
    "# 讀取並辨識影像\n",
    "results = reader.readtext(r'.\\test.PNG', detail=0)\n",
    "\n",
    "# 印出結果\n",
    "for idx, res in enumerate(results):\n",
    "    print(f\"辨識結果 {idx + 1}：{res}\")"
   ]
  }
 ],
 "metadata": {
  "kernelspec": {
   "display_name": "Python 3",
   "language": "python",
   "name": "python3"
  },
  "language_info": {
   "codemirror_mode": {
    "name": "ipython",
    "version": 3
   },
   "file_extension": ".py",
   "mimetype": "text/x-python",
   "name": "python",
   "nbconvert_exporter": "python",
   "pygments_lexer": "ipython3",
   "version": "3.10.11"
  }
 },
 "nbformat": 4,
 "nbformat_minor": 5
}
